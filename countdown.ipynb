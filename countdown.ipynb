{
 "cells": [
  {
   "cell_type": "markdown",
   "metadata": {},
   "source": [
    "# Countdown Numbers Game \n",
    "________________________________________________________________"
   ]
  },
  {
   "cell_type": "markdown",
   "metadata": {},
   "source": [
    "## Origins and Development\n",
    "Countdown is a British game show that has captivated audiences since its inception. It first aired on Channel 4 on November 2, 1982, making it the first program broadcast on the newly launched channel. The game was based on the French show \"Des chiffres et des lettres\" (Numbers and Letters), which was created by Armand Jammot and began airing in 1965. The format of Countdown was unique for its time, combining elements of wordplay with numerical puzzles, challenging contestants' linguistic and mathematical skills.\n",
    "\n",
    "The show's format involves two main parts: the letters game, where contestants build the longest word possible from a random selection of letters, and the numbers game, which is the focus of this report. The inclusion of both elements has made Countdown not only a test of arithmetic skill but also of vocabulary and linguistic agility.\n",
    "\n",
    "Over the years, Countdown has seen several changes in its presentation and rules but has consistently maintained its core format. It has had various hosts and lexicographers who have become well-known figures in British pop culture. The show's enduring popularity can be attributed to its educational value, the mental agility it requires, and its appeal to a broad demographic, from schoolchildren to the elderly."
   ]
  },
  {
   "cell_type": "markdown",
   "metadata": {},
   "source": [
    "### Rules and Objectives of the Countdown Numbers Game:\n",
    "##### 1. Objective:\n",
    "- The main goal is to reach a target number using arithmetic operations on a given set of numbers within a limited time frame.\n",
    "\n",
    "##### 2. Number Selection:\n",
    "- Six numbers are chosen at random. These can include two sets of numbers from 1 to 10 (inclusive) and one set each of 25, 50, 75, and 100.\n",
    "- The numbers are selected randomly from these sets, resulting in a mix of small and large numbers.\n",
    "\n",
    "##### 3. Target Number:\n",
    "- A random target number is generated, ranging from 101 to 999.\n",
    "\n",
    "##### 4.  Time Limit:\n",
    "- Contestants have 30 seconds to calculate the target number.\n",
    "\n",
    "##### 5.  Allowed Operations:\n",
    "\n",
    "- The four basic arithmetic operations can be used: addition (+), subtraction (-), multiplication (×), and division (÷).\n",
    "- Each of the six numbers can be used at most once. However, if the same number appears twice among the six, each occurrence can be used.\n",
    "- Division and subtraction must result in whole, positive numbers. Fractions and negative numbers are not allowed.\n",
    "\n",
    "##### 6. Scoring:\n",
    "\n",
    "- Contestants score points based on how close they get to the target number.\n",
    "- Exact solutions earn more points, but getting within a certain range (within 5 of the target) can also earn points.\n",
    "\n",
    "_____________________________________________________________________________"
   ]
  },
  {
   "cell_type": "markdown",
   "metadata": {},
   "source": [
    "### Common Strategies in the Countdown Numbers Game\n",
    "\n",
    "Players of the Countdown Numbers Game adopt various strategies to approach the challenges presented by the game. These strategies are essential for making the most out of the numbers given and reaching the target number within the time limit. Here are some common strategies:\n",
    "\n",
    "**Balanced Number Selection:** Players often aim for a balanced selection of large and small numbers. Choosing at least one large number (25, 50, 75, or 100) and a variety of smaller numbers can provide more flexibility in reaching the target. This balance allows for a broader range of arithmetic operations.\n",
    "\n",
    "**Prioritising Operations:** Depending on the target number and the numbers selected, players prioritize certain operations. For targets close to the numbers given, addition and subtraction might be more relevant. For higher targets, multiplication—and occasionally division—become crucial. Recognizing which operations will most likely lead you closer to the target is key.\n",
    "\n",
    "**Breakdown of Target Number:** A common approach is to break down the target number into components that are easier to achieve with the available numbers. For example, seeing the target number as a combination of two products or sums can simplify the process.\n",
    "\n",
    "**Use of 'Friendly' Numbers:** Players often look for 'friendly' numbers within their selection—numbers that easily work together, such as 2 and 50 for easy multiplication or numbers that add up to 10 or 100. These combinations can simplify calculations.\n",
    "\n",
    "#### Expert Techniques\n",
    "Advanced players or champions of the Countdown Numbers Game employ more sophisticated techniques, which include:\n",
    "\n",
    "**Pattern Recognition**: Expert players are adept at recognizing patterns within the numbers and the target. This can involve identifying potential combinations quickly or seeing a pathway to the target number based on previous experience.\n",
    "\n",
    "**Memorisation of Number Combinations:** Some players memorize key number combinations that frequently appear useful in the game. Knowing the results of certain multiplications, additions, or ways to quickly reach numbers like 100 or 1000 can save precious time.\n",
    "\n",
    "**Advanced RPN Application:** Reverse Polish Notation (RPN) can significantly streamline the calculation process. Experts might use RPN to efficiently plan and execute a series of operations that lead to the target number. By organizing their thoughts in RPN, they can reduce the mental load of keeping track of operation precedence and brackets.\n",
    "\n",
    "**Strategic Use of Operations:** Beyond prioritizing operations, experts have a nuanced understanding of when and how to use each operation most effectively. This might involve choosing operations that allow for reversible steps or using multiplication and division early to avoid running out of useful numbers.\n",
    "\n",
    "**Flexibility and Adaptation:** High-level players are also highly adaptable, able to change their strategy based on the numbers and target they're presented with. This flexibility allows them to explore different avenues quickly, abandoning less promising paths without hesitation."
   ]
  },
  {
   "cell_type": "markdown",
   "metadata": {},
   "source": [
    "###### Analyse computational complexity. DELETE this line later \n",
    "### Computational Complexity of Countdown \n",
    "\n",
    "Analysing the computational complexity of the Countdown numbers game involves understanding the computational resources (like time and space) required by algorithms to solve the game, as the size of the input grows. The input size can be considered as the number of available numbers and operations to reach the target.\n",
    "\n",
    "##### 1. Problem Overview:\n",
    "In Countdown, you have six numbers and a target number. The task is to use any of the six numbers with arithmetic operations (addition, subtraction, multiplication, division) to reach the target. Each number can be used at most once, and operations can be repeated.\n",
    "\n",
    "##### 2. Complexity Factors:\n",
    "**Number of Numbers:**  \n",
    "You have up to six numbers to choose from. \n",
    "**Arithmetic Operations:** \n",
    "Four operations can be applied in various combinations.\n",
    "**Permutations of Numbers:**\n",
    "Different sequences in which the numbers can be arranged.\n",
    "**Combining Operations with Numbers:** \n",
    "Each number can be combined with others using different operations.\n",
    "\n",
    "##### 3. Time Complexity:\n",
    "**Permutations:** The number of permutations of six numbers is 6! (factorial of 6).\n",
    "**Operation Combinations:** Each pair of numbers can be combined in 4 ways (add, subtract, multiply, divide).\n",
    "**Nested Combinations:** Since operations can be nested, this exponentially increases the combinations.\n",
    "**Brute-Force Approach:** In a brute-force method, you would try every possible combination of numbers and operations. This could lead to a complexity that is factorial in nature, potentially O(n!), where n is the number of numbers (6 in this case).\n",
    "\n",
    "##### 4. Space Complexity:\n",
    "**Recursion Depth:** If a recursive approach is used, the space complexity can depend on the depth of the recursion tree.\n",
    "**Storage of Combinations:** Storing intermediate results or combinations can also take space, though this is generally less of a concern compared to time complexity in this case.\n",
    "\n",
    "##### 5. Algorithmic Considerations:\n",
    "**Pruning:** Implementing efficient algorithms involves pruning unnecessary computations, like not pursuing a path that cannot possibly reach the target.\n",
    "**Dynamic Programming/Memoization:** Programming technique of storing previously computed results to avoid redundant calculations. \n",
    "\n",
    "##### 6. Practical Implications:\n",
    "The computation may not reach the worst-case scenario due to the nature of the game:\n",
    "\n",
    "You don’t always need to use all six numbers.\n",
    "Practical limits on the game (eg., time limits) mean exhaustive searches are not always feasible or necessary."
   ]
  },
  {
   "cell_type": "markdown",
   "metadata": {},
   "source": [
    "## Reverse Polish Notation (RPN) and Its Application in the Countdown Numbers Game\n",
    "\n",
    "Reverse Polish Notation, also known as as postfic notation, is a mathematical notation in which every operator follows all of its operands. It is a linear representation of mathematical expressions without the need for parentheses to denote operation precedence. RPN makes it easier to input and evaluate mathematical expressions for both humans and computers. In the context of the Countdown Numbers Game, RPN can be particularly useful in simplifying the computational process of finding solutions.\n",
    "\n",
    "### Application in Countdown:\n",
    "\n",
    "In the Countdown Numbers Game, players aim to reach a target number by using a set of given numbers and arithmetic operations. The challenge lies in figuring out the correct sequence of operations and number combinations. RPN can streamline this process by providing a clear and efficient way to structure these operations.\n",
    "\n",
    "##### 1. Elimination of Ambiguity:\n",
    "Traditional infix notation <sup id=\"a1\">[1](#f1)</sup> can lead to ambiguity without parentheses, requiring a clear understanding of operation precedence (e.g., multiplication before addition). RPN naturally eliminates this ambiguity, as the order of operations is explicitly defined by the notation sequence.\n",
    "\n",
    "##### 2. Simplified Computation:\n",
    "RPN enables simpler and faster computation, particularly beneficial under the game's time constraints. Computers can evaluate RPN expressions more efficiently because they don't have to deal with operation precedence or parentheses, reducing the computational overhead.\n",
    "\n",
    "##### 3. Algorithmic Efficiency:\n",
    "Implementing algorithms to solve Countdown puzzles can benefit from RPN by reducing the complexity of parsing expressions. Algorithms can directly process RPN expressions in a linear fashion, using a stack-based approach for evaluation. This allows for more straightforward implementation of solution-finding algorithms, potentially improving both time and space efficiency.\n",
    "\n",
    "##### 4. Enhanced Solution Search:\n",
    "When searching for solutions to reach the target number, RPN can facilitate the generation and evaluation of possible number-operation sequences. This can be particularly advantageous when employing techniques like pruning or memoization, as RPN provides a more streamlined form of expression that can be easily manipulated and evaluated.\n",
    "\n",
    "### Practical Implementation:\n",
<<<<<<< HEAD
    "The practical implementation of RPN in solving the Countdown puzzle involves generating potential RPN sequences that represent valid operations on the given numbers.\n",
    "A stack can be used to evaluate these sequences:\n",
    "\n",
    "**Generation:** Produce potential RPN sequences by interspersing the given numbers with the allowable operations (addition, subtraction, multiplication, division), ensuring that each operation has the requisite number of operands available in the stack.\n",
    "\n",
    "**Evaluation:** Use a stack to evaluate each RPN sequence. Push numbers onto the stack, and upon encountering an operation, pop the required operands from the stack, perform the operation, and push the result back onto the stack.\n",
    "\n",
=======
    "The practical implementation of RPN in solving the Countdown puzzle involves generating potential RPN sequences that represent valid operations on the given numbers. A stack can be used to evaluate these sequences:\n",
    "\n",
    "**Generation:** Produce potential RPN sequences by interspersing the given numbers with the allowable operations (addition, subtraction, multiplication, division), ensuring that each operation has the requisite number of operands available in the stack.\n",
    "**Evaluation:** Use a stack to evaluate each RPN sequence. Push numbers onto the stack, and upon encountering an operation, pop the required operands from the stack, perform the operation, and push the result back onto the stack.\n",
>>>>>>> 2d72a92faeb75e9e1997f3f129f7c8d8aba31bc4
    "**Validation and Optimisation:** Ensure that during the evaluation, the operations are valid (e.g., no division by zero, no negative results from subtraction) and aim to optimize the search for sequences that approach or match the target number.\n"
   ]
  },
  {
   "cell_type": "markdown",
   "metadata": {},
   "source": [
    "____________________________________________________________\n",
    "#### Footnotes:\n",
    "\n",
    "<div id=\"f1\"><small>1. <a href=\"https://medium.com/@serene_mulberry_tiger_125/understanding-expressions-infix-prefix-and-postfix-notations-in-computer-science-and-mathematics-c5390cee01be\">Understanding Expressions: Infix, Prefix, and Postfix Notations in Computer Science and Mathematics</a></small></div>\n"
   ]
  },
  {
   "cell_type": "markdown",
   "metadata": {},
   "source": [
    "____________________________________________________________________________________\n",
    "\n",
    "## References: \n",
    "\n",
    "- DataGenetics. (2014). Solving Countdown Numbers Game. DataGenetics Blog. Available at: http://datagenetics.com/blog/august32014/index.html (Accessed: [25/01/24]).\n",
    "\n",
    "- Daitx. (2016). Countdown Math. Daitx. Available at: https://www.daitx.com/2016/05/01/countdown-math/ (Accessed: 25 January 2024).\n",
    "\n",
    "- KnowledgeHut. (n.d.). Memoization in Python. Available at: https://www.knowledgehut.com/blog/programming/memoization-in-python (Accessed: 29 January 2024).\n",
    "\n",
    "- Educative. (n.d.). What is a Pruning Algorithm? Available at: https://www.educative.io/answers/what-is-a-pruning-algorithm (Accessed: 29 January 2024).\n",
    "\n",
    "- Peng, Y. (n.d.). Analysis of Time and Space Complexity in Recursive Algorithms. Medium. Available at: https://medium.com/@yingpeng0221/analysis-of-time-and-space-complexity-in-recursive-algorithms-5a82ea278046 (Accessed: 29 January 2024).\n",
    "\n",
    "- AlgoDaily. (n.d.). Understanding Space Complexity. Available at: https://algodaily.com/lessons/understanding-space-complexity (Accessed: 29 January 2024).\n",
    "\n",
    "- Hargreaves, T. (n.d.). A Polish Approach to Countdown - T-Tested | Blogging about all things data. Available at: https://www.ttested.com/polish-countdown/ (Accessed: 29 January 2024).\n",
    "\n",
    "- Rosetta Code. (n.d.). Countdown. Available at: https://rosettacode.org/wiki/Countdown (Accessed: 29 January 2024).\n",
    "\n",
    "- Serene_mulberry_tiger_125, 2024. Understanding Expressions: Infix, Prefix, and Postfix Notations in Computer Science and Mathematics. [online] Medium. Available at: https://medium.com/@serene_mulberry_tiger_125/understanding-expressions-infix-prefix-and-postfix-notations-in-computer-science-and-mathematics-c5390cee01be [Accessed 18 February 2024].\n",
<<<<<<< HEAD
    "\n",
    "- \"The Countdown Page.\" The Countdown Page, 2024. [Online]. Available: http://www.thecountdownpage.com/index.htm. [Accessed: 26-Feb-2024].\n",
=======
>>>>>>> 2d72a92faeb75e9e1997f3f129f7c8d8aba31bc4
    "\n"
   ]
  },
  {
   "cell_type": "markdown",
   "metadata": {},
   "source": [
    "_________________________________________________________________\n",
    "## End "
   ]
  }
 ],
 "metadata": {
  "language_info": {
   "name": "python"
  }
 },
 "nbformat": 4,
 "nbformat_minor": 2
}
