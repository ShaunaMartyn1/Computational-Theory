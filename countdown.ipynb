{
 "cells": [
  {
   "cell_type": "markdown",
   "metadata": {},
   "source": [
    "# Countdown Numbers Game \n",
    "________________________________________________________________"
   ]
  },
  {
   "cell_type": "markdown",
   "metadata": {},
   "source": [
    "### Rules and Objectives of the Countdown Numbers Game:\n",
    "##### 1. Objective:\n",
    "- The main goal is to reach a target number using arithmetic operations on a given set of numbers within a limited time frame.\n",
    "\n",
    "##### 2. Number Selection:\n",
    "- Six numbers are chosen at random. These can include two sets of numbers from 1 to 10 (inclusive) and one set each of 25, 50, 75, and 100.\n",
    "- The numbers are selected randomly from these sets, resulting in a mix of small and large numbers.\n",
    "\n",
    "##### 3. Target Number:\n",
    "- A random target number is generated, ranging from 101 to 999.\n",
    "\n",
    "##### 4.  Time Limit:\n",
    "- Contestants have 30 seconds to calculate the target number.\n",
    "\n",
    "##### 5.  Allowed Operations:\n",
    "\n",
    "- The four basic arithmetic operations can be used: addition (+), subtraction (-), multiplication (×), and division (÷).\n",
    "- Each of the six numbers can be used at most once. However, if the same number appears twice among the six, each occurrence can be used.\n",
    "- Division and subtraction must result in whole, positive numbers. Fractions and negative numbers are not allowed.\n",
    "\n",
    "##### 6. Scoring:\n",
    "\n",
    "- Contestants score points based on how close they get to the target number.\n",
    "- Exact solutions earn more points, but getting within a certain range (within 5 of the target) can also earn points.\n",
    "\n",
    "_____________________________________________________________________________"
   ]
  },
  {
   "cell_type": "markdown",
   "metadata": {},
   "source": [
    "###### Analyse computational complexity. DELETE this line later \n",
    "### Computational Complexity of Countdown \n",
    "\n",
    "Analysing the computational complexity of the Countdown numbers game involves understanding the computational resources (like time and space) required by algorithms to solve the game, as the size of the input grows. The input size can be considered as the number of available numbers and operations to reach the target.\n",
    "\n",
    "##### 1. Problem Overview:\n",
    "In Countdown, you have six numbers and a target number. The task is to use any of the six numbers with arithmetic operations (addition, subtraction, multiplication, division) to reach the target. Each number can be used at most once, and operations can be repeated.\n",
    "\n",
    "##### 2. Complexity Factors:\n",
    "**Number of Numbers:**  \n",
    "You have up to six numbers to choose from. \n",
    "**Arithmetic Operations:** \n",
    "Four operations can be applied in various combinations.\n",
    "**Permutations of Numbers:**\n",
    "Different sequences in which the numbers can be arranged.\n",
    "**Combining Operations with Numbers:** \n",
    "Each number can be combined with others using different operations.\n",
    "\n",
    "##### 3. Time Complexity:\n",
    "**Permutations:** The number of permutations of six numbers is 6! (factorial of 6).\n",
    "**Operation Combinations:** Each pair of numbers can be combined in 4 ways (add, subtract, multiply, divide).\n",
    "**Nested Combinations:** Since operations can be nested, this exponentially increases the combinations.\n",
    "**Brute-Force Approach:** In a brute-force method, you would try every possible combination of numbers and operations. This could lead to a complexity that is factorial in nature, potentially O(n!), where n is the number of numbers (6 in this case).\n",
    "\n",
    "##### 4. Space Complexity:\n",
    "**Recursion Depth:** If a recursive approach is used, the space complexity can depend on the depth of the recursion tree.\n",
    "**Storage of Combinations:** Storing intermediate results or combinations can also take space, though this is generally less of a concern compared to time complexity in this case.\n",
    "\n",
    "##### 5. Algorithmic Considerations:\n",
    "**Pruning:** Implementing efficient algorithms involves pruning unnecessary computations, like not pursuing a path that cannot possibly reach the target.\n",
    "**Dynamic Programming/Memoization:** Programming technique of storing previously computed results to avoid redundant calculations. \n",
    "\n",
    "##### 6. Practical Implications:\n",
    "The computation may not reach the worst-case scenario due to the nature of the game:\n",
    "\n",
    "You don’t always need to use all six numbers.\n",
    "Practical limits on the game (eg., time limits) mean exhaustive searches are not always feasible or necessary."
   ]
  },
  {
   "cell_type": "markdown",
   "metadata": {},
   "source": [
    "## Reverse Polish Notation (RPN) and Its Application in the Countdown Numbers Game\n",
    "\n",
    "Reverse Polish Notation, also known as as postfic notation, is a mathematical notation in which every operator follows all of its operands. It is a linear representation of mathematical expressions without the need for parentheses to denote operation precedence. RPN makes it easier to input and evaluate mathematical expressions for both humans and computers. In the context of the Countdown Numbers Game, RPN can be particularly useful in simplifying the computational process of finding solutions.\n",
    "\n",
    "### Application in Countdown:\n",
    "\n",
    "In the Countdown Numbers Game, players aim to reach a target number by using a set of given numbers and arithmetic operations. The challenge lies in figuring out the correct sequence of operations and number combinations. RPN can streamline this process by providing a clear and efficient way to structure these operations.\n",
    "\n",
    "##### 1. Elimination of Ambiguity:\n",
    "Traditional infix notation <sup id=\"a1\">[1](#f1)</sup> can lead to ambiguity without parentheses, requiring a clear understanding of operation precedence (e.g., multiplication before addition). RPN naturally eliminates this ambiguity, as the order of operations is explicitly defined by the notation sequence.\n",
    "\n",
    "##### 2. Simplified Computation:\n",
    "RPN enables simpler and faster computation, particularly beneficial under the game's time constraints. Computers can evaluate RPN expressions more efficiently because they don't have to deal with operation precedence or parentheses, reducing the computational overhead.\n",
    "\n",
    "##### 3. Algorithmic Efficiency:\n",
    "Implementing algorithms to solve Countdown puzzles can benefit from RPN by reducing the complexity of parsing expressions. Algorithms can directly process RPN expressions in a linear fashion, using a stack-based approach for evaluation. This allows for more straightforward implementation of solution-finding algorithms, potentially improving both time and space efficiency.\n",
    "\n",
    "##### 4. Enhanced Solution Search:\n",
    "When searching for solutions to reach the target number, RPN can facilitate the generation and evaluation of possible number-operation sequences. This can be particularly advantageous when employing techniques like pruning or memoization, as RPN provides a more streamlined form of expression that can be easily manipulated and evaluated.\n",
    "\n",
    "### Practical Implementation:\n",
    "The practical implementation of RPN in solving the Countdown puzzle involves generating potential RPN sequences that represent valid operations on the given numbers. A stack can be used to evaluate these sequences:\n",
    "\n",
    "**Generation:** Produce potential RPN sequences by interspersing the given numbers with the allowable operations (addition, subtraction, multiplication, division), ensuring that each operation has the requisite number of operands available in the stack.\n",
    "**Evaluation:** Use a stack to evaluate each RPN sequence. Push numbers onto the stack, and upon encountering an operation, pop the required operands from the stack, perform the operation, and push the result back onto the stack.\n",
    "**Validation and Optimisation:** Ensure that during the evaluation, the operations are valid (e.g., no division by zero, no negative results from subtraction) and aim to optimize the search for sequences that approach or match the target number.\n"
   ]
  },
  {
   "cell_type": "markdown",
   "metadata": {},
   "source": [
    "____________________________________________________________\n",
    "#### Footnotes:\n",
    "\n",
    "<div id=\"f1\"><small>1. <a href=\"https://medium.com/@serene_mulberry_tiger_125/understanding-expressions-infix-prefix-and-postfix-notations-in-computer-science-and-mathematics-c5390cee01be\">Understanding Expressions: Infix, Prefix, and Postfix Notations in Computer Science and Mathematics</a></small></div>\n"
   ]
  },
  {
   "cell_type": "markdown",
   "metadata": {},
   "source": [
    "____________________________________________________________________________________\n",
    "\n",
    "## References: \n",
    "\n",
    "- DataGenetics. (2014). Solving Countdown Numbers Game. DataGenetics Blog. Available at: http://datagenetics.com/blog/august32014/index.html (Accessed: [25/01/24]).\n",
    "\n",
    "- Daitx. (2016). Countdown Math. Daitx. Available at: https://www.daitx.com/2016/05/01/countdown-math/ (Accessed: 25 January 2024).\n",
    "\n",
    "- KnowledgeHut. (n.d.). Memoization in Python. Available at: https://www.knowledgehut.com/blog/programming/memoization-in-python (Accessed: 29 January 2024).\n",
    "\n",
    "- Educative. (n.d.). What is a Pruning Algorithm? Available at: https://www.educative.io/answers/what-is-a-pruning-algorithm (Accessed: 29 January 2024).\n",
    "\n",
    "- Peng, Y. (n.d.). Analysis of Time and Space Complexity in Recursive Algorithms. Medium. Available at: https://medium.com/@yingpeng0221/analysis-of-time-and-space-complexity-in-recursive-algorithms-5a82ea278046 (Accessed: 29 January 2024).\n",
    "\n",
    "- AlgoDaily. (n.d.). Understanding Space Complexity. Available at: https://algodaily.com/lessons/understanding-space-complexity (Accessed: 29 January 2024).\n",
    "\n",
    "- Hargreaves, T. (n.d.). A Polish Approach to Countdown - T-Tested | Blogging about all things data. Available at: https://www.ttested.com/polish-countdown/ (Accessed: 29 January 2024).\n",
    "\n",
    "- Rosetta Code. (n.d.). Countdown. Available at: https://rosettacode.org/wiki/Countdown (Accessed: 29 January 2024).\n",
    "\n",
    "- Serene_mulberry_tiger_125, 2024. Understanding Expressions: Infix, Prefix, and Postfix Notations in Computer Science and Mathematics. [online] Medium. Available at: https://medium.com/@serene_mulberry_tiger_125/understanding-expressions-infix-prefix-and-postfix-notations-in-computer-science-and-mathematics-c5390cee01be [Accessed 18 February 2024].\n",
    "\n"
   ]
  },
  {
   "cell_type": "markdown",
   "metadata": {},
   "source": [
    "_________________________________________________________________\n",
    "## End "
   ]
  }
 ],
 "metadata": {
  "language_info": {
   "name": "python"
  }
 },
 "nbformat": 4,
 "nbformat_minor": 2
}
