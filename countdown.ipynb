{
 "cells": [
  {
   "cell_type": "markdown",
   "metadata": {},
   "source": [
    "# Countdown Numbers Game "
   ]
  },
  {
   "cell_type": "markdown",
   "metadata": {},
   "source": [
    "## Rules and Objectives of the Countdown Numbers Game:\n",
    "1. Objective:\n",
    "- The main goal is to reach a target number using arithmetic operations on a given set of numbers within a limited time frame.\n",
    "\n",
    "2. Number Selection:\n",
    "- Six numbers are chosen at random. These can include two sets of numbers from 1 to 10 (inclusive) and one set each of 25, 50, 75, and 100.\n",
    "- The numbers are selected randomly from these sets, resulting in a mix of small and large numbers.\n",
    "\n",
    "3. Target Number:\n",
    "- A random target number is generated, ranging from 101 to 999.\n",
    "\n",
    "4. Time Limit:\n",
    "- Contestants have 30 seconds to calculate the target number.\n",
    "\n",
    "5. Allowed Operations:\n",
    "\n",
    "- The four basic arithmetic operations can be used: addition (+), subtraction (-), multiplication (×), and division (÷).\n",
    "- Each of the six numbers can be used at most once. However, if the same number appears twice among the six, each occurrence can be used.\n",
    "- Division and subtraction must result in whole, positive numbers. Fractions and negative numbers are not allowed.\n",
    "\n",
    "6. Scoring:\n",
    "\n",
    "- Contestants score points based on how close they get to the target number.\n",
    "- Exact solutions earn more points, but getting within a certain range (within 5 of the target) can also earn points."
   ]
  },
  {
   "cell_type": "markdown",
   "metadata": {},
   "source": [
    "# References: \n",
    "\n",
    "- DataGenetics. (2014). Solving Countdown Numbers Game. DataGenetics Blog. Available at: http://datagenetics.com/blog/august32014/index.html (Accessed: [25/01/24]).\n",
    "\n",
    "- Daitx. (2016). Countdown Math. Daitx. Available at: https://www.daitx.com/2016/05/01/countdown-math/ (Accessed: 25 January 2024)."
   ]
  }
 ],
 "metadata": {
  "language_info": {
   "name": "python"
  }
 },
 "nbformat": 4,
 "nbformat_minor": 2
}
